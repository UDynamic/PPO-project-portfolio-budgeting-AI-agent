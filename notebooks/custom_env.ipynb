{
 "cells": [
  {
   "cell_type": "markdown",
   "id": "8c22bbff",
   "metadata": {},
   "source": [
    "# <div align=\"center\" > The custom environment for the Project Portfolio simulation </div>\n",
    "\n",
    "\n",
    "</br>\n",
    "</br>\n",
    "This is the simulation notebook for the project portfolio environement simulation.\n",
    "</br>\n",
    "</br>\n",
    "---"
   ]
  },
  {
   "cell_type": "markdown",
   "id": "94466188",
   "metadata": {},
   "source": [
    "# The prerequisites\n",
    "\n",
    "## Project management relative concepts"
   ]
  },
  {
   "cell_type": "markdown",
   "id": "9248bbd3",
   "metadata": {},
   "source": [
    "# 🚀Initiation"
   ]
  },
  {
   "cell_type": "code",
   "execution_count": 2,
   "id": "f4ce8daa",
   "metadata": {},
   "outputs": [],
   "source": [
    "from gymnasium import Env\n",
    "from gymnasium.spaces import Discrete, Box\n",
    "import numpy as np"
   ]
  },
  {
   "cell_type": "markdown",
   "id": "1626a1dd",
   "metadata": {},
   "source": [
    "## Problem deffinition\n",
    "\n",
    "    here we're going to elaborate on the problem definition and design choices.\n",
    "\n",
    "\n",
    "### environment design \n"
   ]
  }
 ],
 "metadata": {
  "kernelspec": {
   "display_name": ".venv (3.13.7)",
   "language": "python",
   "name": "python3"
  },
  "language_info": {
   "codemirror_mode": {
    "name": "ipython",
    "version": 3
   },
   "file_extension": ".py",
   "mimetype": "text/x-python",
   "name": "python",
   "nbconvert_exporter": "python",
   "pygments_lexer": "ipython3",
   "version": "3.13.7"
  }
 },
 "nbformat": 4,
 "nbformat_minor": 5
}
