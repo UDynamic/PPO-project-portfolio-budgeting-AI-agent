{
 "cells": [
  {
   "cell_type": "markdown",
   "id": "8c22bbff",
   "metadata": {},
   "source": [
    "# <div align=\"center\" > The custom environment for the Project Portfolio simulation </div>\n",
    "\n",
    "\n",
    "</br>\n",
    "</br>\n",
    "This is the simulation notebook for the project portfolio environement simulation.\n",
    "</br>\n",
    "</br>\n",
    "---"
   ]
  },
  {
   "cell_type": "markdown",
   "id": "9248bbd3",
   "metadata": {},
   "source": [
    "## Importing Modules"
   ]
  },
  {
   "cell_type": "code",
   "execution_count": 2,
   "id": "f4ce8daa",
   "metadata": {},
   "outputs": [],
   "source": [
    "from gymnasium import Env\n",
    "from gymnasium.spaces import Discrete, Box\n",
    "import numpy as np"
   ]
  },
  {
   "cell_type": "code",
   "execution_count": null,
   "id": "725af284",
   "metadata": {},
   "outputs": [],
   "source": [
    "class projectPortfolioEnv(Env):\n",
    "    def __init__(self):\n",
    "        super(projectPortfolioEnv, self).__init__()\n",
    "        # 1️⃣ Define Action and Observation space\n",
    "        self.action_space = Discrete(3)  # or Box(low, high, shape, dtype)\n",
    "        self.observation_space = Box(low=0, high=1, shape=(4,), dtype=np.float32)\n",
    "\n",
    "        # 2️⃣ Initialize State\n",
    "        self.state = np.zeros(4)\n",
    "\n",
    "        # 3️⃣ Other Variables\n",
    "        self.current_step = 0\n",
    "\n",
    "    def reset(self, seed=None, options=None):\n",
    "        # Required to return observation and info\n",
    "        self.state = np.zeros(4)\n",
    "        self.current_step = 0\n",
    "        return self.state, {}\n",
    "\n",
    "    def step(self, action):\n",
    "        # 1. Apply action\n",
    "        # 2. Compute new state\n",
    "        self.state = np.random.rand(4)\n",
    "\n",
    "        # 3. Compute reward\n",
    "        reward = 1 if action == 1 else 0\n",
    "\n",
    "        # 4. Check if episode is done\n",
    "        self.current_step += 1\n",
    "        done = self.current_step > 100\n",
    "\n",
    "        # 5. Optionally include diagnostics in info\n",
    "        info = {}\n",
    "\n",
    "        return self.state, reward, done, False, info\n",
    "\n",
    "    def render(self):\n",
    "        print(f\"Step: {self.current_step}, State: {self.state}\")\n"
   ]
  }
 ],
 "metadata": {
  "kernelspec": {
   "display_name": ".venv (3.13.7)",
   "language": "python",
   "name": "python3"
  },
  "language_info": {
   "codemirror_mode": {
    "name": "ipython",
    "version": 3
   },
   "file_extension": ".py",
   "mimetype": "text/x-python",
   "name": "python",
   "nbconvert_exporter": "python",
   "pygments_lexer": "ipython3",
   "version": "3.13.7"
  }
 },
 "nbformat": 4,
 "nbformat_minor": 5
}
