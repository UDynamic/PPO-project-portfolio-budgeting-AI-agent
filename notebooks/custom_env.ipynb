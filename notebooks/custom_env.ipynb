{
 "cells": [
  {
   "cell_type": "markdown",
   "id": "8c22bbff",
   "metadata": {},
   "source": [
    "# <div align=\"center\" > The custom environment for the Project Portfolio simulation </div>\n",
    "<div align=\"center\" > This is the simulation notebook for the project portfolio environement simulation.\n",
    "</br>\n",
    "</br>\n"
   ]
  },
  {
   "cell_type": "markdown",
   "id": "94466188",
   "metadata": {},
   "source": [
    "---\n",
    "--- \n",
    "# The prerequisites\n",
    "<span style=\"padding-left: 2em;\">This continues the paragraph normally.here we're going to elaborate on the problem definition and design choices.</span>\n",
    "\n",
    "\n",
    "## Project management relative concepts\n",
    "<span style=\"padding-left: 2em;\">This continues the paragraph normally.here we're going to elaborate on the problem definition and design choices.</span>\n",
    "\n",
    "### Project Cost Performance Baseline\n",
    "<img src=\"../Assets/Project-cost-baseline-graph.jpg\" alt=\"drawing\" width=\"400\"/>\n"
   ]
  },
  {
   "cell_type": "markdown",
   "id": "1626a1dd",
   "metadata": {},
   "source": [
    "---\n",
    "---\n",
    "## Problem deffinition\n",
    "\n",
    "<span style=\"padding-left: 2em;\">This continues the paragraph normally.here we're going to elaborate on the problem definition and design choices.</span>\n",
    "\n",
    "## Inclusions and exclusions\n",
    "\n",
    "\n",
    "### environment design \n",
    "\n",
    "<span style=\"padding-left: 2em;\">here's an infograph of environment and it's architecture</span>\n",
    "\n",
    "<img src=\"../assets/Info_graphs/environment/Mindmap - 2025.10.30-Environment.webp\" alt=\"drawing\" width=\"800\"/>"
   ]
  },
  {
   "cell_type": "markdown",
   "id": "9248bbd3",
   "metadata": {},
   "source": [
    "---\n",
    "---\n",
    "# 🚀Initiation"
   ]
  },
  {
   "cell_type": "code",
   "execution_count": 5,
   "id": "f4ce8daa",
   "metadata": {},
   "outputs": [],
   "source": [
    "from gymnasium import Env\n",
    "from gymnasium.spaces import Discrete, Box\n",
    "import numpy as np\n",
    "\n"
   ]
  },
  {
   "cell_type": "markdown",
   "id": "48920a98",
   "metadata": {},
   "source": []
  },
  {
   "cell_type": "code",
   "execution_count": null,
   "id": "6608eb04",
   "metadata": {},
   "outputs": [
    {
     "name": "stdout",
     "output_type": "stream",
     "text": [
      "2.0.1+cu117\n",
      "CUDA available: True\n",
      "Device name: NVIDIA GeForce 940MX\n"
     ]
    }
   ],
   "source": [
    "import torch\n",
    "print(torch.__version__)\n",
    "print(\"CUDA available:\", torch.cuda.is_available())\n",
    "print(\"Device name:\", torch.cuda.get_device_name(0) if torch.cuda.is_available() else \"CPU only\")"
   ]
  }
 ],
 "metadata": {
  "kernelspec": {
   "display_name": ".venv (3.11.9)",
   "language": "python",
   "name": "python3"
  },
  "language_info": {
   "codemirror_mode": {
    "name": "ipython",
    "version": 3
   },
   "file_extension": ".py",
   "mimetype": "text/x-python",
   "name": "python",
   "nbconvert_exporter": "python",
   "pygments_lexer": "ipython3",
   "version": "3.11.9"
  }
 },
 "nbformat": 4,
 "nbformat_minor": 5
}
