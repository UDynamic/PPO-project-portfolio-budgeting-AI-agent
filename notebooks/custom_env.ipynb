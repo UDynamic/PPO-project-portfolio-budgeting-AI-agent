{
 "cells": [
  {
   "cell_type": "markdown",
   "id": "8c22bbff",
   "metadata": {},
   "source": [
    "# <div align=\"center\" > The custom environment for the Project Portfolio simulation </div>\n",
    "<div align=\"center\" > This is the simulation notebook for the project portfolio environement simulation.\n",
    "</br>\n",
    "</br>\n"
   ]
  },
  {
   "cell_type": "markdown",
   "id": "94466188",
   "metadata": {},
   "source": [
    "---\n",
    "--- \n",
    "# The prerequisites\n",
    "<span style=\"padding-left: 2em;\">This continues the paragraph normally.here we're going to elaborate on the problem definition and design choices.</span>\n",
    "\n",
    "\n",
    "## Project management relative concepts\n",
    "<span style=\"padding-left: 2em;\">This continues the paragraph normally.here we're going to elaborate on the problem definition and design choices.</span>\n",
    "\n",
    "### Project Cost Performance Baseline\n",
    "![Chart](../Assets/Project-cost-baseline-graph.jpg)"
   ]
  },
  {
   "cell_type": "markdown",
   "id": "1626a1dd",
   "metadata": {},
   "source": [
    "---\n",
    "---\n",
    "## Problem deffinition\n",
    "\n",
    "<span style=\"padding-left: 2em;\">This continues the paragraph normally.here we're going to elaborate on the problem definition and design choices.</span>\n",
    "\n",
    "## Inclusions and exclusions\n",
    "* Contingency and management reserves\n",
    "* Cashflow Uncertainties\n",
    "\n",
    "\n",
    "\n",
    "### environment design \n"
   ]
  },
  {
   "cell_type": "markdown",
   "id": "9248bbd3",
   "metadata": {},
   "source": [
    "---\n",
    "---\n",
    "# 🚀Initiation"
   ]
  },
  {
   "cell_type": "code",
   "execution_count": null,
   "id": "f4ce8daa",
   "metadata": {},
   "outputs": [],
   "source": [
    "from gymnasium import Env\n",
    "from gymnasium.spaces import Discrete, Boxs\n",
    "import numpy as np\n",
    "\n"
   ]
  }
 ],
 "metadata": {
  "kernelspec": {
   "display_name": ".venv (3.13.7)",
   "language": "python",
   "name": "python3"
  },
  "language_info": {
   "codemirror_mode": {
    "name": "ipython",
    "version": 3
   },
   "file_extension": ".py",
   "mimetype": "text/x-python",
   "name": "python",
   "nbconvert_exporter": "python",
   "pygments_lexer": "ipython3",
   "version": "3.13.7"
  }
 },
 "nbformat": 4,
 "nbformat_minor": 5
}
