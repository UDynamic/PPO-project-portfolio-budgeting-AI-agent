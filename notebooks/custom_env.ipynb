{
 "cells": [
  {
   "cell_type": "markdown",
   "id": "8c22bbff",
   "metadata": {},
   "source": [
    "# <div align=\"center\" > The custom environment for the Project Portfolio simulation </div>\n",
    "<div align=\"center\" > This is the simulation notebook for the project portfolio environement simulation.\n",
    "</br>\n",
    "</br>\n"
   ]
  },
  {
   "cell_type": "markdown",
   "id": "94466188",
   "metadata": {},
   "source": [
    "---\n",
    "--- \n",
    "# The prerequisites\n",
    "<span style=\"padding-left: 2em;\">This continues the paragraph normally.here we're going to elaborate on the problem definition and design choices.</span>\n",
    "\n",
    "\n",
    "## Project management relative concepts\n",
    "<span style=\"padding-left: 2em;\">This continues the paragraph normally.here we're going to elaborate on the problem definition and design choices.</span>\n",
    "\n",
    "### Project Cost Performance Baseline\n",
    "<img src=\"../Assets/Project-cost-baseline-graph.jpg\" alt=\"drawing\" width=\"400\"/>\n"
   ]
  },
  {
   "cell_type": "markdown",
   "id": "1626a1dd",
   "metadata": {},
   "source": [
    "---\n",
    "---\n",
    "## Problem deffinition\n",
    "\n",
    "<span style=\"padding-left: 2em;\">This continues the paragraph normally.here we're going to elaborate on the problem definition and design choices.</span>\n",
    "\n",
    "## Inclusions and exclusions\n",
    "\n",
    "\n",
    "### environment design \n",
    "\n",
    "<span style=\"padding-left: 2em;\">here's an infograph of environment and it's architecture</span>\n",
    "\n",
    "<img src=\"../assets/Info_graphs/environment/Mindmap - 2025.10.30-Environment.webp\" alt=\"drawing\" width=\"800\"/>"
   ]
  },
  {
   "cell_type": "markdown",
   "id": "9248bbd3",
   "metadata": {},
   "source": [
    "---\n",
    "---\n",
    "# 🚀Initiation"
   ]
  },
  {
   "cell_type": "code",
   "execution_count": 1,
   "id": "f4ce8daa",
   "metadata": {},
   "outputs": [
    {
     "ename": "ImportError",
     "evalue": "cannot import name 'Boxs' from 'gymnasium.spaces' (f:\\Career\\01. IE (Industrial Engineering)\\00. Univesity\\Masters\\05. Master's thesis\\PPO-project-portfolio-budgeting-AI-agent\\.venv\\Lib\\site-packages\\gymnasium\\spaces\\__init__.py)",
     "output_type": "error",
     "traceback": [
      "\u001b[31m---------------------------------------------------------------------------\u001b[39m",
      "\u001b[31mImportError\u001b[39m                               Traceback (most recent call last)",
      "\u001b[36mCell\u001b[39m\u001b[36m \u001b[39m\u001b[32mIn[1]\u001b[39m\u001b[32m, line 2\u001b[39m\n\u001b[32m      1\u001b[39m \u001b[38;5;28;01mfrom\u001b[39;00m\u001b[38;5;250m \u001b[39m\u001b[34;01mgymnasium\u001b[39;00m\u001b[38;5;250m \u001b[39m\u001b[38;5;28;01mimport\u001b[39;00m Env\n\u001b[32m----> \u001b[39m\u001b[32m2\u001b[39m \u001b[38;5;28;01mfrom\u001b[39;00m\u001b[38;5;250m \u001b[39m\u001b[34;01mgymnasium\u001b[39;00m\u001b[34;01m.\u001b[39;00m\u001b[34;01mspaces\u001b[39;00m\u001b[38;5;250m \u001b[39m\u001b[38;5;28;01mimport\u001b[39;00m Discrete, Boxs\n\u001b[32m      3\u001b[39m \u001b[38;5;28;01mimport\u001b[39;00m\u001b[38;5;250m \u001b[39m\u001b[34;01mnumpy\u001b[39;00m\u001b[38;5;250m \u001b[39m\u001b[38;5;28;01mas\u001b[39;00m\u001b[38;5;250m \u001b[39m\u001b[34;01mnp\u001b[39;00m\n",
      "\u001b[31mImportError\u001b[39m: cannot import name 'Boxs' from 'gymnasium.spaces' (f:\\Career\\01. IE (Industrial Engineering)\\00. Univesity\\Masters\\05. Master's thesis\\PPO-project-portfolio-budgeting-AI-agent\\.venv\\Lib\\site-packages\\gymnasium\\spaces\\__init__.py)"
     ]
    }
   ],
   "source": [
    "from gymnasium import Env\n",
    "from gymnasium.spaces import Discrete, Boxs\n",
    "import numpy as np\n",
    "\n"
   ]
  },
  {
   "cell_type": "markdown",
   "id": "48920a98",
   "metadata": {},
   "source": []
  },
  {
   "cell_type": "code",
   "execution_count": null,
   "id": "6608eb04",
   "metadata": {},
   "outputs": [
    {
     "name": "stdout",
     "output_type": "stream",
     "text": [
      "2.0.1+cu117\n",
      "CUDA available: True\n",
      "Device name: NVIDIA GeForce 940MX\n"
     ]
    }
   ],
   "source": [
    "import torch\n",
    "print(torch.__version__)\n",
    "print(\"CUDA available:\", torch.cuda.is_available())\n",
    "print(\"Device name:\", torch.cuda.get_device_name(0) if torch.cuda.is_available() else \"CPU only\")"
   ]
  }
 ],
 "metadata": {
  "kernelspec": {
   "display_name": ".venv (3.11.9)",
   "language": "python",
   "name": "python3"
  },
  "language_info": {
   "codemirror_mode": {
    "name": "ipython",
    "version": 3
   },
   "file_extension": ".py",
   "mimetype": "text/x-python",
   "name": "python",
   "nbconvert_exporter": "python",
   "pygments_lexer": "ipython3",
   "version": "3.11.9"
  }
 },
 "nbformat": 4,
 "nbformat_minor": 5
}
